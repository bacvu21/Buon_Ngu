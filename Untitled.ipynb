{
 "cells": [
  {
   "cell_type": "code",
   "execution_count": null,
   "id": "18481c6f-8a82-434a-b7bf-e4ff1d10cb63",
   "metadata": {},
   "outputs": [],
   "source": [
    "print('hello world')"
   ]
  },
  {
   "cell_type": "code",
   "execution_count": null,
   "id": "ab6d8546-d9d3-4ffe-9339-8469a0a49665",
   "metadata": {},
   "outputs": [],
   "source": [
    "for x in range (10):\n",
    "    print(x)"
   ]
  }
 ],
 "metadata": {
  "kernelspec": {
   "display_name": "Python 3.9.13 64-bit (microsoft store)",
   "language": "python",
   "name": "python3"
  },
  "language_info": {
   "codemirror_mode": {
    "name": "ipython",
    "version": 3
   },
   "file_extension": ".py",
   "mimetype": "text/x-python",
   "name": "python",
   "nbconvert_exporter": "python",
   "pygments_lexer": "ipython3",
   "version": "3.9.13"
  },
  "vscode": {
   "interpreter": {
    "hash": "aa4aed6ac7e5242302d4917362e1b582af9d480c02339033be44a58f46ed1aac"
   }
  }
 },
 "nbformat": 4,
 "nbformat_minor": 5
}
